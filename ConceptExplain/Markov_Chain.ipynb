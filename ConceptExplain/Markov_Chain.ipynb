{
 "cells": [
  {
   "cell_type": "code",
   "execution_count": 141,
   "metadata": {
    "collapsed": false
   },
   "outputs": [
    {
     "data": {
      "image/png": "[encoded data removed]",
      "text/plain": [
       "<matplotlib.figure.Figure at 0x105952950>"
      ]
     },
     "metadata": {},
     "output_type": "display_data"
    },
    {
     "data": {
      "image/png": "[encoded data removed]",
      "text/plain": [
       "<matplotlib.figure.Figure at 0x1080067d0>"
      ]
     },
     "metadata": {},
     "output_type": "display_data"
    }
   ],
   "source": [
    "# Markov chain sample:\n",
    "\n",
    "from random import randint\n",
    "import sys\n",
    "import matplotlib.pyplot as plt\n",
    "import numpy\n",
    "\n",
    "State_A = ['A','A','A','A','B','B','B','B','B','B']\n",
    "State_B = ['B','B','B','B','A','A','A','A','A','A']\n",
    "from_A_to_B = 0\n",
    "from_A_to_A = 0\n",
    "from_B_to_A = 0\n",
    "from_B_to_B = 0\n",
    "\n",
    "def selectFromA(runs):\n",
    "    if runs == 0:\n",
    "        return\n",
    "    else:\n",
    "        runs-=1      \n",
    "    i = randint(0,9)\n",
    "    if State_A[i] == 'A':\n",
    "        global from_A_to_A\n",
    "        from_A_to_A+=1\n",
    "        selectFromA(runs)\n",
    "    elif State_A[i] == 'B':\n",
    "        global from_A_to_B\n",
    "        from_A_to_B+=1\n",
    "        selectFromB(runs)\n",
    "    else:\n",
    "        print \"error!\"\n",
    "\n",
    "def selectFromB(runs):\n",
    "    if runs == 0:\n",
    "        return\n",
    "    else:\n",
    "        runs-=1   \n",
    "    i = randint(0,9)\n",
    "    if State_B[i] == 'A':\n",
    "        global from_B_to_A\n",
    "        from_B_to_A+=1\n",
    "        selectFromB(runs)\n",
    "    elif State_B[i] == 'B':\n",
    "        global from_B_to_B\n",
    "        from_B_to_B+=1\n",
    "        selectFromB(runs)\n",
    "    else:\n",
    "        print \"error!\"\n",
    "\n",
    "A2Alist = []\n",
    "A2Blist = []\n",
    "B2Alist = []\n",
    "B2Blist = []\n",
    "ratiolist = []      \n",
    "for i in xrange(1,100):\n",
    "    global from_A_to_A\n",
    "    from_A_to_A = 0\n",
    "    global from_A_to_B\n",
    "    from_A_to_B = 0\n",
    "    global from_B_to_A\n",
    "    from_B_to_A = 0\n",
    "    global from_B_to_B\n",
    "    from_B_to_B = 0\n",
    "    selectFromA(40)\n",
    "    A2Alist.append(from_A_to_A)\n",
    "    A2Blist.append(from_A_to_B)\n",
    "    B2Alist.append(from_B_to_A)\n",
    "    B2Blist.append(from_B_to_B)\n",
    "    ratio = (float)(from_A_to_A + from_B_to_A)/(float)(from_B_to_A + from_B_to_B)\n",
    "    ratiolist.append(ratio)\n",
    "    \n",
    "plt.hist(ratiolist, facecolor='green')\n",
    "plt.axis([0, 1, 0, 30])\n",
    "plt.grid(True)\n",
    "plt.show()\n",
    "\n",
    "bins = numpy.linspace(-10, 10, 100)\n",
    "plt.hist(A2Alist, alpha=0.7, label='x')\n",
    "plt.hist(A2Blist, alpha=0.3, label='y')\n",
    "plt.hist(B2Alist, alpha=0.5, label='z')\n",
    "plt.hist(B2Blist, alpha=0.5, label='q')\n",
    "plt.axis([1, 40, 0, 35])\n",
    "plt.show()"
   ]
  }
 ],
 "metadata": {
  "anaconda-cloud": {},
  "kernelspec": {
   "display_name": "Python [conda root]",
   "language": "python",
   "name": "conda-root-py"
  },
  "language_info": {
   "codemirror_mode": {
    "name": "ipython",
    "version": 2
   },
   "file_extension": ".py",
   "mimetype": "text/x-python",
   "name": "python",
   "nbconvert_exporter": "python",
   "pygments_lexer": "ipython2",
   "version": "2.7.12"
  }
 },
 "nbformat": 4,
 "nbformat_minor": 1
}
